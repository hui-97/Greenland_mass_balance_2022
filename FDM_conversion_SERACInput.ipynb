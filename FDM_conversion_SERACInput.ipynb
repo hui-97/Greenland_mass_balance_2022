{
 "cells": [
  {
   "cell_type": "code",
   "execution_count": 18,
   "id": "f74d0c2f",
   "metadata": {},
   "outputs": [],
   "source": [
    "import numpy as np\n",
    "import xarray as xr\n",
    "import csv\n",
    "import datetime\n",
    "import pandas as pd\n",
    "from pyproj import Transformer\n",
    "import glob"
   ]
  },
  {
   "cell_type": "code",
   "execution_count": 19,
   "id": "b8430858",
   "metadata": {},
   "outputs": [],
   "source": [
    "## Pandas datetime to decimal year\n",
    "def year_fraction(date):\n",
    "    start = datetime.date(date.year, 1, 1).toordinal()\n",
    "    year_length = datetime.date(date.year+1, 1, 1).toordinal() - start\n",
    "    return date.year + float(date.toordinal() - start) / year_length"
   ]
  },
  {
   "cell_type": "code",
   "execution_count": 23,
   "id": "569e3a7a",
   "metadata": {},
   "outputs": [],
   "source": [
    "## FDMs in the order of IMAU, GSFC, and MAR\n",
    "IMAU2020 = \"/Volumes/Samsung_T5/Greenland_climatology/RACMO/IMAUFDM_RACMO2.3p2_1960-2020/FDM_zs_FGRN055_1957-2020_GrIS_GIC.nc\"\n",
    "GSFC_FDM = \"/Volumes/Samsung_T5/Greenland_climatology/MERRA_2/gsfc_fdm_v1.2/gsfc_fdm_v1_2_1_gris_June22.nc\"\n",
    "MAR_FDM = \"/Volumes/Samsung_T5/Greenland_climatology/MAR/MARv3.12.1-6.5km-daily-ERA5-1979/\"\n",
    "\n",
    "f_names = [IMAU2020, GSFC_FDM, MAR_FDM]\n",
    "h_names = ['zs', 'h_a', 'ZN6']\n",
    "output_dir = \"\"\n",
    "outputf_names = [\"FDM_zs_FGRN055_1957-2020_GrIS_GIC_SERACInput.csv\", \"gsfc_fdm_v1_2_1_gris_June22_SERACInput.csv\", \"MARv3.12.1-6.5km-daily-ERA5_SERACInput.csv\"]\n",
    "\n",
    "##------------------------------------Change f_source and l_ind------------------------------------\n",
    "f_source = \"MAR\" # IMAU, GSFC, or MAR\n",
    "l_ind = 2 # 0 (IMAU), 1 (GSFC), 2 (MAR)\n",
    "\n",
    "f_name = f_names[l_ind]\n",
    "h_name = h_names[l_ind]\n",
    "outputf_name = outputf_names[l_ind]"
   ]
  },
  {
   "cell_type": "code",
   "execution_count": 24,
   "id": "120673b8",
   "metadata": {},
   "outputs": [
    {
     "name": "stdout",
     "output_type": "stream",
     "text": [
      "CPU times: user 1min 45s, sys: 4min 44s, total: 6min 30s\n",
      "Wall time: 11min 44s\n"
     ]
    }
   ],
   "source": [
    "%%time\n",
    "\n",
    "## Read FDM time and data\n",
    "if f_source == \"MAR\":\n",
    "    f_list = glob.glob(MAR_FDM+\"*\")\n",
    "\n",
    "    def sortfunc(n):\n",
    "        return n[-7:-3]\n",
    "    f_list.sort(key=sortfunc)\n",
    "\n",
    "\n",
    "    FDM = xr.open_dataset(f_list[0])\n",
    "    data = FDM[h_name].values\n",
    "    time = FDM['TIME'].values\n",
    "\n",
    "    for f in f_list[1:]:\n",
    "        FDM = xr.open_dataset(f)\n",
    "        data = np.concatenate((data, FDM['ZN6'].values), axis=0)\n",
    "        time = np.concatenate((time, FDM['TIME'].values))\n",
    "    data = np.squeeze(data)\n",
    "    data = np.swapaxes(data, 0, 2)\n",
    "\n",
    "elif f_source == \"IMAU\" or f_source == \"GSFC\":\n",
    "    FDM = xr.open_dataset(f_name)\n",
    "    time = FDM['time'].values\n",
    "    data = FDM[h_name].values\n",
    "    data = np.swapaxes(data, 0, 2)\n",
    "    data = np.swapaxes(data, 0, 1)\n",
    "\n",
    "    \n",
    "time_FDM = []\n",
    "if type(time[0]) == np.datetime64:\n",
    "    for x in time:\n",
    "        time_FDM.append(year_fraction(pd.Timestamp(x).to_pydatetime()))\n",
    "else:\n",
    "    time_FDM = time"
   ]
  },
  {
   "cell_type": "code",
   "execution_count": 25,
   "id": "b0331c5e",
   "metadata": {},
   "outputs": [
    {
     "name": "stdout",
     "output_type": "stream",
     "text": [
      "CPU times: user 5min 58s, sys: 30min 17s, total: 36min 15s\n",
      "Wall time: 1h 1min 13s\n"
     ]
    }
   ],
   "source": [
    "%%time\n",
    "\n",
    "## Prepare data\n",
    "data = data.reshape(-1, len(time_FDM))\n",
    "if f_source == \"MAR\":\n",
    "    data = np.cumsum(data, axis = 1)\n",
    "\n",
    "## Prepare header\n",
    "header = ['Lon','Lat','X','Y']\n",
    "header.extend(np.round(time_FDM, 4))\n",
    "\n",
    "\n",
    "\n",
    "if f_source == \"IMAU\":\n",
    "    # Coordinates: Lat, Lon (epsg4326), X, Y (epsg32624)\n",
    "    transformer = Transformer.from_crs(\"epsg:4326\", \"epsg:32624\", always_xy=True)\n",
    "    lon = FDM.lon.values.reshape(-1)\n",
    "    lat = FDM.lat.values.reshape(-1)\n",
    "    X, Y = pd.Series(transformer.transform(lon, lat))\n",
    "elif f_source == \"GSFC\" or f_source == \"MAR\":\n",
    "    # Coordinates: Lat, Lon (epsg4326), X, Y (epsg32624)\n",
    "    x2d, y2d = np.meshgrid(FDM['x'].values, FDM['y'].values)\n",
    "\n",
    "    transformer = Transformer.from_crs(\"epsg:3413\", \"epsg:32624\", always_xy=True)\n",
    "    X, Y = pd.Series(transformer.transform(x2d.flatten(), y2d.flatten()))\n",
    "\n",
    "    transformer = Transformer.from_crs(\"epsg:3413\", \"epsg:4326\", always_xy=True)\n",
    "    lon, lat = pd.Series(transformer.transform(x2d.flatten(), y2d.flatten()))\n",
    "\n",
    "    \n",
    "coord = np.array([lon, lat, np.round(X), np.round(Y)]).T\n",
    "\n",
    "if f_source == \"MAR\":\n",
    "    msk = ~(data == 0.).all(axis=1)\n",
    "else:\n",
    "    msk = ~np.isnan(data).any(axis=1)\n",
    "\n",
    "data = np.concatenate([coord[msk], data[msk]], axis=1)\n",
    "data = np.round(data, 6)"
   ]
  },
  {
   "cell_type": "code",
   "execution_count": 26,
   "id": "c4dbf56d",
   "metadata": {},
   "outputs": [
    {
     "name": "stdout",
     "output_type": "stream",
     "text": [
      "CPU times: user 8min 33s, sys: 24.3 s, total: 8min 57s\n",
      "Wall time: 9min 59s\n"
     ]
    }
   ],
   "source": [
    "%%time\n",
    "\n",
    "with open(output_dir+outputf_name, 'w', encoding='UTF8', newline='') as f:\n",
    "    writer = csv.writer(f, delimiter=',')\n",
    "\n",
    "    # write the header\n",
    "    writer.writerow(header)\n",
    "\n",
    "    # write multiple rows\n",
    "    writer.writerows(data)"
   ]
  },
  {
   "cell_type": "code",
   "execution_count": null,
   "id": "28256a75",
   "metadata": {},
   "outputs": [],
   "source": []
  }
 ],
 "metadata": {
  "kernelspec": {
   "display_name": "Python 3 (ipykernel)",
   "language": "python",
   "name": "python3"
  },
  "language_info": {
   "codemirror_mode": {
    "name": "ipython",
    "version": 3
   },
   "file_extension": ".py",
   "mimetype": "text/x-python",
   "name": "python",
   "nbconvert_exporter": "python",
   "pygments_lexer": "ipython3",
   "version": "3.8.13"
  }
 },
 "nbformat": 4,
 "nbformat_minor": 5
}
